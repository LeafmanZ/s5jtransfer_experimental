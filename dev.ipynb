{
 "cells": [
  {
   "cell_type": "code",
   "execution_count": 1,
   "metadata": {},
   "outputs": [],
   "source": [
    "import os\n",
    "\n",
    "def corrupt_file(filename, bytes_to_corrupt):\n",
    "    # Determine the size of the file\n",
    "    file_size = os.path.getsize(filename)\n",
    "\n",
    "    # Open the file in binary read/write mode\n",
    "    with open(filename, 'r+b') as file:\n",
    "        # Random positions in the file to start the corruption\n",
    "        start_positions = [os.urandom(1)[0] % file_size for _ in range(bytes_to_corrupt)]\n",
    "        \n",
    "        for start in start_positions:\n",
    "            # Move to the position\n",
    "            file.seek(start)\n",
    "            # Write a random byte\n",
    "            file.write(os.urandom(1))\n",
    "\n",
    "# Example usage\n",
    "corrupt_file('example.txt', 10)  # Corrupts 10 random positions in example.txt"
   ]
  }
 ],
 "metadata": {
  "kernelspec": {
   "display_name": "cu118",
   "language": "python",
   "name": "python3"
  },
  "language_info": {
   "codemirror_mode": {
    "name": "ipython",
    "version": 3
   },
   "file_extension": ".py",
   "mimetype": "text/x-python",
   "name": "python",
   "nbconvert_exporter": "python",
   "pygments_lexer": "ipython3",
   "version": "3.10.0"
  }
 },
 "nbformat": 4,
 "nbformat_minor": 2
}
